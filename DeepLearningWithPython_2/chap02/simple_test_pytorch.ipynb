{
 "cells": [
  {
   "cell_type": "code",
   "execution_count": 1,
   "id": "c41471e3-d531-43d7-8f57-3422bb1225f7",
   "metadata": {},
   "outputs": [
    {
     "name": "stdout",
     "output_type": "stream",
     "text": [
      "tensor([[0.4469, 0.1830, 0.4708],\n",
      "        [0.6537, 0.5767, 0.9041],\n",
      "        [0.4677, 0.7636, 0.8498],\n",
      "        [0.4572, 0.0964, 0.0847],\n",
      "        [0.3981, 0.5392, 0.9951]])\n"
     ]
    }
   ],
   "source": [
    "import torch\n",
    "x = torch.rand(5, 3)\n",
    "print(x)"
   ]
  },
  {
   "cell_type": "code",
   "execution_count": 2,
   "id": "b124ad04-0a21-4cc8-ba59-694cba0328ce",
   "metadata": {},
   "outputs": [
    {
     "data": {
      "text/plain": [
       "True"
      ]
     },
     "execution_count": 2,
     "metadata": {},
     "output_type": "execute_result"
    }
   ],
   "source": [
    "torch.cuda.is_available()"
   ]
  },
  {
   "cell_type": "code",
   "execution_count": 3,
   "id": "49dffddd-be4c-48bf-b177-f6d22b1d5052",
   "metadata": {},
   "outputs": [
    {
     "data": {
      "text/plain": [
       "'1.9.0+cu102'"
      ]
     },
     "execution_count": 3,
     "metadata": {},
     "output_type": "execute_result"
    }
   ],
   "source": [
    "torch.__version__"
   ]
  },
  {
   "cell_type": "code",
   "execution_count": 5,
   "id": "062e7710-4dbb-4b2f-a1d2-3a89a0386934",
   "metadata": {},
   "outputs": [
    {
     "name": "stdout",
     "output_type": "stream",
     "text": [
      "Epoch 0, loss: 1.1528712511062622\n",
      "Epoch 100, loss: 0.5744584798812866\n",
      "Epoch 200, loss: 0.5715576410293579\n",
      "Epoch 300, loss: 0.5703509449958801\n",
      "Epoch 400, loss: 0.5698491930961609\n",
      "Epoch 500, loss: 0.5696225166320801\n",
      "Epoch 600, loss: 0.5695072412490845\n",
      "Epoch 700, loss: 0.569442868232727\n",
      "Epoch 800, loss: 0.5694038271903992\n",
      "Epoch 900, loss: 0.5693787336349487\n",
      "Epoch 1000, loss: 0.5693615078926086\n",
      "Epoch 1100, loss: 0.5693492889404297\n",
      "Epoch 1200, loss: 0.5693402886390686\n",
      "Epoch 1300, loss: 0.5693336129188538\n",
      "Epoch 1400, loss: 0.5693284273147583\n",
      "Epoch 1500, loss: 0.5693243741989136\n",
      "Epoch 1600, loss: 0.5693210959434509\n",
      "Epoch 1700, loss: 0.5693184733390808\n",
      "Epoch 1800, loss: 0.5693162679672241\n",
      "Epoch 1900, loss: 0.5693145394325256\n",
      "Epoch 2000, loss: 0.5693129897117615\n",
      "Epoch 2100, loss: 0.5693116784095764\n",
      "Epoch 2200, loss: 0.5693106055259705\n",
      "Epoch 2300, loss: 0.5693097114562988\n",
      "Epoch 2400, loss: 0.569308876991272\n",
      "Epoch 2500, loss: 0.5693081617355347\n",
      "Epoch 2600, loss: 0.5693075656890869\n",
      "Epoch 2700, loss: 0.5693070292472839\n",
      "Epoch 2800, loss: 0.5693065524101257\n",
      "Epoch 2900, loss: 0.5693060755729675\n",
      "Epoch 3000, loss: 0.5693057775497437\n",
      "Epoch 3100, loss: 0.569305419921875\n",
      "Epoch 3200, loss: 0.5693050622940063\n",
      "Epoch 3300, loss: 0.5693048238754272\n",
      "Epoch 3400, loss: 0.5693045854568481\n",
      "Epoch 3500, loss: 0.569304347038269\n",
      "Epoch 3600, loss: 0.5693041682243347\n",
      "Epoch 3700, loss: 0.5693039298057556\n",
      "Epoch 3800, loss: 0.5693038105964661\n",
      "Epoch 3900, loss: 0.5693036913871765\n",
      "Epoch 4000, loss: 0.5693035125732422\n",
      "Epoch 4100, loss: 0.5693033933639526\n",
      "Epoch 4200, loss: 0.5693032741546631\n",
      "Epoch 4300, loss: 0.5693031549453735\n",
      "Epoch 4400, loss: 0.5693030953407288\n",
      "Epoch 4500, loss: 0.569303035736084\n",
      "Epoch 4600, loss: 0.5693029165267944\n",
      "Epoch 4700, loss: 0.5693028569221497\n",
      "Epoch 4800, loss: 0.5693027973175049\n",
      "Epoch 4900, loss: 0.5693027377128601\n"
     ]
    }
   ],
   "source": [
    "import pandas as pd\n",
    "from sklearn.model_selection import train_test_split\n",
    "from sklearn.metrics import accuracy_score\n",
    "\n",
    "import torch\n",
    "import torch.nn as nn\n",
    "import torch.nn.functional as F\n",
    "import numpy as np\n",
    "from torch.autograd import Variable\n",
    "from sklearn import preprocessing\n",
    "\n",
    "\n",
    "class Net(nn.Module):\n",
    "    def __init__(self, in_count, out_count):\n",
    "        super(Net, self).__init__()\n",
    "        self.fc1 = nn.Linear(in_count, 50)\n",
    "        self.fc2 = nn.Linear(50, 25)\n",
    "        self.fc3 = nn.Linear(25, out_count)\n",
    "        self.softmax = nn.Softmax(dim=1)\n",
    "\n",
    "    def forward(self, x):\n",
    "        x = F.relu(self.fc1(x))\n",
    "        x = self.fc2(x)\n",
    "        x = self.fc3(x)\n",
    "        return self.softmax(x)\n",
    "\n",
    "    \n",
    "df = pd.read_csv(\n",
    "    \"https://data.heatonresearch.com/data/t81-558/iris.csv\", \n",
    "    na_values=['NA', '?'])\n",
    "\n",
    "le = preprocessing.LabelEncoder()\n",
    "\n",
    "x = df[['sepal_l', 'sepal_w', 'petal_l', 'petal_w']].values\n",
    "y = le.fit_transform(df['species'])\n",
    "classes = le.classes_\n",
    "\n",
    "x_train, x_test, y_train, y_test = train_test_split(    \n",
    "    x, y, test_size=0.25, random_state=42)\n",
    "\n",
    "x_train = Variable(torch.Tensor(x_train).float())\n",
    "x_test = Variable(torch.Tensor(x_test).float())\n",
    "y_train = Variable(torch.Tensor(y_train).long())\n",
    "y_test = Variable(torch.Tensor(y_test).long())\n",
    "\n",
    "net = Net(x.shape[1],len(classes))\n",
    "\n",
    "criterion = nn.CrossEntropyLoss()# cross entropy loss\n",
    "\n",
    "#optimizer = torch.optim.SGD(net.parameters(), lr=0.01)\n",
    "optimizer = torch.optim.Adam(net.parameters(), lr=0.01)\n",
    "\n",
    "for epoch in range(5000):\n",
    "    optimizer.zero_grad()\n",
    "    out = net(x_train)\n",
    "    loss = criterion(out, y_train)\n",
    "    loss.backward()\n",
    "    optimizer.step()\n",
    "    \n",
    "    if epoch % 100 == 0:\n",
    "        print(f\"Epoch {epoch}, loss: {loss.item()}\")\n",
    "\n",
    "pred_prob = net(x_test)\n",
    "_, pred = torch.max(pred_prob, 1)"
   ]
  },
  {
   "cell_type": "code",
   "execution_count": null,
   "id": "aa240912-d41d-4896-b2c4-788163ca15ae",
   "metadata": {},
   "outputs": [],
   "source": []
  }
 ],
 "metadata": {
  "kernelspec": {
   "display_name": "Python 3",
   "language": "python",
   "name": "python3"
  },
  "language_info": {
   "codemirror_mode": {
    "name": "ipython",
    "version": 3
   },
   "file_extension": ".py",
   "mimetype": "text/x-python",
   "name": "python",
   "nbconvert_exporter": "python",
   "pygments_lexer": "ipython3",
   "version": "3.9.0"
  }
 },
 "nbformat": 4,
 "nbformat_minor": 5
}
