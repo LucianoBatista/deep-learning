{
 "cells": [
  {
   "cell_type": "markdown",
   "metadata": {},
   "source": [
    "# Classifying movie reviews: a binary classification example"
   ]
  },
  {
   "cell_type": "markdown",
   "metadata": {},
   "source": [
    "Data: IMDB dataset"
   ]
  },
  {
   "cell_type": "code",
   "execution_count": 1,
   "metadata": {},
   "outputs": [],
   "source": [
    "from tensorflow.keras.datasets import imdb"
   ]
  },
  {
   "cell_type": "code",
   "execution_count": 2,
   "metadata": {},
   "outputs": [],
   "source": [
    "# num_words => only keep 10000 most frequent words in the training data\n",
    "(train_data, train_labels), (test_data, test_labels) = imdb.load_data(num_words=10000)"
   ]
  },
  {
   "cell_type": "code",
   "execution_count": 5,
   "metadata": {},
   "outputs": [
    {
     "data": {
      "text/plain": [
       "((25000,), (25000,))"
      ]
     },
     "execution_count": 5,
     "metadata": {},
     "output_type": "execute_result"
    }
   ],
   "source": [
    "# each integer on labels is a word on in a dictionary\n",
    "train_data.shape, train_labels.shape"
   ]
  },
  {
   "cell_type": "code",
   "execution_count": 7,
   "metadata": {},
   "outputs": [
    {
     "data": {
      "text/plain": [
       "[1, 14, 22, 16, 43, 530, 973, 1622, 1385, 65]"
      ]
     },
     "execution_count": 7,
     "metadata": {},
     "output_type": "execute_result"
    }
   ],
   "source": [
    "# train_data is a list of reviews: each review is a list of word indices (enconding a sequence of words).\n",
    "train_data[0][:10]"
   ]
  },
  {
   "cell_type": "code",
   "execution_count": 8,
   "metadata": {},
   "outputs": [
    {
     "data": {
      "text/plain": [
       "9999"
      ]
     },
     "execution_count": 8,
     "metadata": {},
     "output_type": "execute_result"
    }
   ],
   "source": [
    "max([max(sequence) for sequence in train_data])"
   ]
  },
  {
   "cell_type": "code",
   "execution_count": 9,
   "metadata": {},
   "outputs": [
    {
     "name": "stdout",
     "output_type": "stream",
     "text": [
      "Downloading data from https://storage.googleapis.com/tensorflow/tf-keras-datasets/imdb_word_index.json\n",
      "1646592/1641221 [==============================] - 0s 0us/step\n"
     ]
    }
   ],
   "source": [
    "# encoding back to english\n",
    "word_index = imdb.get_word_index()\n",
    "reverse_word_index = dict(\n",
    "    [(value, key) for (key, value) in word_index.items()]\n",
    ")\n",
    "# indixes are offset by 3 because 0, 1 and 2 are reserved for padding, start of sequence and unknown\n",
    "decoded_review = \" \".join(\n",
    "    [reverse_word_index.get(i - 3, \"?\") for i in train_data[0]]\n",
    ")"
   ]
  },
  {
   "cell_type": "code",
   "execution_count": 12,
   "metadata": {},
   "outputs": [
    {
     "data": {
      "text/plain": [
       "\"? this film was just brilliant casting location scenery story direction everyone's really suited the part they played and you could just imagine being there robert ? is an amazing actor and now the same being director ? father came from the same scottish island as myself so i loved the fact there was a real connection with this film the witty remarks throughout the film were great it was just brilliant so much that i bought the film as soon as it was released for ? and would recommend it to everyone to watch and the fly fishing was amazing really cried at the end it was so sad and you know what they say if you cry at a film it must have been good and this definitely was also ? to the two little boy's that played the ? of norman and paul they were just brilliant children are often left out of the ? list i think because the stars that play them all grown up are such a big profile for the whole film but these children are amazing and should be praised for what they have done don't you think the whole story was so lovely because it was true and was someone's life after all that was shared with us all\""
      ]
     },
     "execution_count": 12,
     "metadata": {},
     "output_type": "execute_result"
    }
   ],
   "source": [
    "decoded_review"
   ]
  },
  {
   "cell_type": "code",
   "execution_count": 14,
   "metadata": {},
   "outputs": [
    {
     "data": {
      "text/plain": [
       "\"? this film was just brilliant casting location scenery story direction everyone's really suited the part they played and you could just imagine being there robert ? is an amazing actor and now the same being director ? father came from the same scottish island as myself so i loved the fact there was a real connection with this film the witty remarks throughout the film were great it was just brilliant so much that i bought the film as soon as it was released for ? and would recommend it to everyone to watch and the fly fishing was amazing really cried at the end it was so sad and you know what they say if you cry at a film it must have been good and this definitely was also ? to the two little boy's that played the ? of norman and paul they were just brilliant children are often left out of the ? list i think because the stars that play them all grown up are such a big profile for the whole film but these children are amazing and should be praised for what they have done don't you think the whole story was so lovely because it was true and was someone's life after all that was shared with us all\""
      ]
     },
     "execution_count": 14,
     "metadata": {},
     "output_type": "execute_result"
    }
   ],
   "source": [
    "decoded_review"
   ]
  },
  {
   "cell_type": "markdown",
   "metadata": {},
   "source": [
    "# Preparing the data"
   ]
  },
  {
   "cell_type": "code",
   "execution_count": 17,
   "metadata": {},
   "outputs": [
    {
     "data": {
      "text/plain": [
       "(218, 189)"
      ]
     },
     "execution_count": 17,
     "metadata": {},
     "output_type": "execute_result"
    }
   ],
   "source": [
    "# we have lists with different lenghts\n",
    "# and for that we need to do something about it\n",
    "len(train_data[0]), len(train_data[1])"
   ]
  },
  {
   "cell_type": "code",
   "execution_count": 3,
   "metadata": {},
   "outputs": [],
   "source": [
    "import numpy as np"
   ]
  },
  {
   "cell_type": "code",
   "execution_count": 4,
   "metadata": {},
   "outputs": [],
   "source": [
    "def vectorize_sequences(sequences, dimension=10000):\n",
    "    results = np.zeros((len(sequences), dimension))\n",
    "    for i, sequence in enumerate(sequences):\n",
    "        for j in sequence:\n",
    "            # replace the position on zeros data with 1 for \n",
    "            # the index that we have\n",
    "            results[i, j] = 1.\n",
    "    return results\n",
    "x_train = vectorize_sequences(train_data)\n",
    "x_test = vectorize_sequences(test_data)"
   ]
  },
  {
   "cell_type": "code",
   "execution_count": 26,
   "metadata": {},
   "outputs": [
    {
     "data": {
      "text/plain": [
       "array([0., 1., 1., ..., 0., 0., 0.])"
      ]
     },
     "execution_count": 26,
     "metadata": {},
     "output_type": "execute_result"
    }
   ],
   "source": [
    "x_train[0]"
   ]
  },
  {
   "cell_type": "code",
   "execution_count": 8,
   "metadata": {},
   "outputs": [],
   "source": [
    "y_train = np.asarray(train_labels).astype(\"float32\")\n",
    "y_test = np.asarray(test_labels).astype(\"float32\")"
   ]
  },
  {
   "cell_type": "markdown",
   "metadata": {},
   "source": [
    "The data is ready!!"
   ]
  },
  {
   "cell_type": "markdown",
   "metadata": {},
   "source": [
    "# Building your model"
   ]
  },
  {
   "cell_type": "markdown",
   "metadata": {},
   "source": [
    "For this kind of problem (input data = vectors, and lables = scalars) densely-connected (Dense) layers with relu activations works nicely."
   ]
  },
  {
   "cell_type": "markdown",
   "metadata": {},
   "source": [
    "Things to decide:\n",
    "- How many layers to use\n",
    "- How many units to choose for each layer"
   ]
  },
  {
   "cell_type": "markdown",
   "metadata": {},
   "source": [
    "For now:\n",
    "- Two intermediate layers with 16 units (neurons) each\n",
    "- A third layer that will output the scalar prediction regarding the sentiment of the current review"
   ]
  },
  {
   "cell_type": "code",
   "execution_count": 5,
   "metadata": {},
   "outputs": [],
   "source": [
    "# model definition\n",
    "from tensorflow import keras\n",
    "from tensorflow.keras import layers"
   ]
  },
  {
   "cell_type": "code",
   "execution_count": 29,
   "metadata": {},
   "outputs": [],
   "source": [
    "model = keras.Sequential([\n",
    "    layers.Dense(16, activation=\"relu\"),\n",
    "    layers.Dense(16, activation=\"relu\"),\n",
    "    layers.Dense(1, activation=\"sigmoid\")\n",
    "])"
   ]
  },
  {
   "cell_type": "markdown",
   "metadata": {},
   "source": [
    "Keras call the \"neuron\" as units: the dimensionality of representation space of the layer."
   ]
  },
  {
   "cell_type": "markdown",
   "metadata": {},
   "source": [
    "# Choosing our optimizer / loss / metrics"
   ]
  },
  {
   "cell_type": "markdown",
   "metadata": {},
   "source": [
    "For binary classification problems that return a probability, binary_crossentropy is a good choice."
   ]
  },
  {
   "cell_type": "markdown",
   "metadata": {},
   "source": [
    "**Crossentropy** is a quantity from the field of Information Theory that measures the distance beetween probability distributions or, in this case, between the ground-truth distribution and your predictions."
   ]
  },
  {
   "cell_type": "code",
   "execution_count": 30,
   "metadata": {},
   "outputs": [],
   "source": [
    "# set optimizer, loss and metrics\n",
    "model.compile(optimizer=\"rmsprop\",\n",
    "              loss=\"binary_crossentropy\",\n",
    "              metrics=[\"accuracy\"])"
   ]
  },
  {
   "cell_type": "markdown",
   "metadata": {},
   "source": [
    "# Setting a Validation data"
   ]
  },
  {
   "cell_type": "code",
   "execution_count": 9,
   "metadata": {},
   "outputs": [],
   "source": [
    "x_val = x_train[:10000]\n",
    "partial_x_train = x_train[10000:]\n",
    "y_val = y_train[:10000]\n",
    "partial_y_train = y_train[10000:]"
   ]
  },
  {
   "cell_type": "code",
   "execution_count": 33,
   "metadata": {},
   "outputs": [
    {
     "name": "stdout",
     "output_type": "stream",
     "text": [
      "Train on 15000 samples, validate on 10000 samples\n",
      "Epoch 1/20\n",
      "15000/15000 [==============================] - 1s 73us/sample - loss: 0.5369 - accuracy: 0.7634 - val_loss: 0.4077 - val_accuracy: 0.8694\n",
      "Epoch 2/20\n",
      "15000/15000 [==============================] - 1s 36us/sample - loss: 0.3188 - accuracy: 0.9013 - val_loss: 0.3330 - val_accuracy: 0.8728\n",
      "Epoch 3/20\n",
      "15000/15000 [==============================] - 1s 36us/sample - loss: 0.2275 - accuracy: 0.9268 - val_loss: 0.3126 - val_accuracy: 0.8757\n",
      "Epoch 4/20\n",
      "15000/15000 [==============================] - 1s 36us/sample - loss: 0.1783 - accuracy: 0.9453 - val_loss: 0.2810 - val_accuracy: 0.8855\n",
      "Epoch 5/20\n",
      "15000/15000 [==============================] - 1s 36us/sample - loss: 0.1422 - accuracy: 0.9583 - val_loss: 0.2862 - val_accuracy: 0.8860\n",
      "Epoch 6/20\n",
      "15000/15000 [==============================] - 1s 37us/sample - loss: 0.1179 - accuracy: 0.9651 - val_loss: 0.2984 - val_accuracy: 0.8848\n",
      "Epoch 7/20\n",
      "15000/15000 [==============================] - 1s 42us/sample - loss: 0.0949 - accuracy: 0.9750 - val_loss: 0.3555 - val_accuracy: 0.8740\n",
      "Epoch 8/20\n",
      "15000/15000 [==============================] - 1s 36us/sample - loss: 0.0753 - accuracy: 0.9817 - val_loss: 0.3517 - val_accuracy: 0.8790\n",
      "Epoch 9/20\n",
      "15000/15000 [==============================] - 1s 40us/sample - loss: 0.0610 - accuracy: 0.9859 - val_loss: 0.3562 - val_accuracy: 0.8779\n",
      "Epoch 10/20\n",
      "15000/15000 [==============================] - 1s 37us/sample - loss: 0.0477 - accuracy: 0.9903 - val_loss: 0.3998 - val_accuracy: 0.8690\n",
      "Epoch 11/20\n",
      "15000/15000 [==============================] - 1s 40us/sample - loss: 0.0365 - accuracy: 0.9939 - val_loss: 0.4100 - val_accuracy: 0.8756\n",
      "Epoch 12/20\n",
      "15000/15000 [==============================] - 1s 40us/sample - loss: 0.0292 - accuracy: 0.9949 - val_loss: 0.4408 - val_accuracy: 0.8757\n",
      "Epoch 13/20\n",
      "15000/15000 [==============================] - 1s 38us/sample - loss: 0.0219 - accuracy: 0.9964 - val_loss: 0.4756 - val_accuracy: 0.8756\n",
      "Epoch 14/20\n",
      "15000/15000 [==============================] - 1s 40us/sample - loss: 0.0194 - accuracy: 0.9966 - val_loss: 0.4920 - val_accuracy: 0.8735\n",
      "Epoch 15/20\n",
      "15000/15000 [==============================] - 1s 38us/sample - loss: 0.0098 - accuracy: 0.9993 - val_loss: 0.5227 - val_accuracy: 0.8715\n",
      "Epoch 16/20\n",
      "15000/15000 [==============================] - 1s 41us/sample - loss: 0.0129 - accuracy: 0.9979 - val_loss: 0.5547 - val_accuracy: 0.8725\n",
      "Epoch 17/20\n",
      "15000/15000 [==============================] - 1s 40us/sample - loss: 0.0054 - accuracy: 0.9997 - val_loss: 0.6008 - val_accuracy: 0.8623\n",
      "Epoch 18/20\n",
      "15000/15000 [==============================] - 1s 39us/sample - loss: 0.0102 - accuracy: 0.9979 - val_loss: 0.6149 - val_accuracy: 0.8683\n",
      "Epoch 19/20\n",
      "15000/15000 [==============================] - 1s 38us/sample - loss: 0.0029 - accuracy: 0.9999 - val_loss: 0.6433 - val_accuracy: 0.8677\n",
      "Epoch 20/20\n",
      "15000/15000 [==============================] - 1s 38us/sample - loss: 0.0061 - accuracy: 0.9987 - val_loss: 0.6759 - val_accuracy: 0.8684\n"
     ]
    }
   ],
   "source": [
    "# training our model\n",
    "history = model.fit(\n",
    "    partial_x_train,\n",
    "    partial_y_train,\n",
    "    epochs=20,\n",
    "    batch_size=512,\n",
    "    validation_data=(x_val, y_val)\n",
    ")"
   ]
  },
  {
   "cell_type": "code",
   "execution_count": 36,
   "metadata": {},
   "outputs": [
    {
     "data": {
      "text/plain": [
       "dict_keys(['loss', 'accuracy', 'val_loss', 'val_accuracy'])"
      ]
     },
     "execution_count": 36,
     "metadata": {},
     "output_type": "execute_result"
    }
   ],
   "source": [
    "# have data about loss, accuracy on training and validation\n",
    "history.history.keys()"
   ]
  },
  {
   "cell_type": "code",
   "execution_count": 37,
   "metadata": {},
   "outputs": [],
   "source": [
    "import matplotlib.pyplot as plt"
   ]
  },
  {
   "cell_type": "code",
   "execution_count": 38,
   "metadata": {},
   "outputs": [
    {
     "data": {
      "image/png": "[encoded data removed]",
      "text/plain": [
       "<Figure size 432x288 with 1 Axes>"
      ]
     },
     "metadata": {
      "needs_background": "light"
     },
     "output_type": "display_data"
    }
   ],
   "source": [
    "history_dict = history.history\n",
    "loss_values = history_dict[\"loss\"]\n",
    "val_loss_values = history_dict[\"val_loss\"]\n",
    "epochs = range(1, len(loss_values) + 1)\n",
    "# matplotlib horrible plots\n",
    "# plot epochs vs loss_values\n",
    "plt.plot(epochs, loss_values, \"bo\", label=\"Training loss\")\n",
    "# plot epochs vs val_loss_values\n",
    "plt.plot(epochs, val_loss_values, \"b\", label=\"Validation loss\")\n",
    "# floreamento\n",
    "plt.title(\"Training and validation loss\")\n",
    "plt.xlabel(\"Epochs\")\n",
    "plt.ylabel(\"Loss\")\n",
    "plt.legend()\n",
    "plt.show()"
   ]
  },
  {
   "cell_type": "code",
   "execution_count": 45,
   "metadata": {},
   "outputs": [
    {
     "data": {
      "image/png": "[encoded data removed]",
      "text/plain": [
       "<Figure size 432x288 with 1 Axes>"
      ]
     },
     "metadata": {
      "needs_background": "light"
     },
     "output_type": "display_data"
    }
   ],
   "source": [
    "plt.clf()  # clears the figure\n",
    "# let's do the same for accuracy\n",
    "acc_values = history_dict[\"accuracy\"]\n",
    "val_acc_values = history_dict[\"val_accuracy\"]\n",
    "# plotting\n",
    "plt.plot(epochs, acc_values, \"bo\", label=\"Accuracy on training\")\n",
    "plt.plot(epochs, val_acc_values, \"b\", label=\"Accuracy on validation\")\n",
    "plt.title(\"Training and validation accuracies\")\n",
    "plt.xlabel(\"Epochs\")\n",
    "plt.ylabel(\"Accuracy\")\n",
    "plt.legend()\n",
    "plt.show()"
   ]
  },
  {
   "cell_type": "markdown",
   "metadata": {},
   "source": [
    "This is a clear case of overfitting, our model learn a lot about the training data but not so much to the unseen data."
   ]
  },
  {
   "cell_type": "code",
   "execution_count": 46,
   "metadata": {},
   "outputs": [
    {
     "name": "stdout",
     "output_type": "stream",
     "text": [
      "Train on 25000 samples\n",
      "Epoch 1/4\n",
      "25000/25000 [==============================] - 1s 34us/sample - loss: 0.4497 - accuracy: 0.8256\n",
      "Epoch 2/4\n",
      "25000/25000 [==============================] - 1s 22us/sample - loss: 0.2607 - accuracy: 0.9126\n",
      "Epoch 3/4\n",
      "25000/25000 [==============================] - 1s 22us/sample - loss: 0.2009 - accuracy: 0.9302\n",
      "Epoch 4/4\n",
      "25000/25000 [==============================] - 1s 20us/sample - loss: 0.1663 - accuracy: 0.9420\n",
      "25000/25000 [==============================] - 1s 51us/sample - loss: 0.3058 - accuracy: 0.8781\n"
     ]
    }
   ],
   "source": [
    "# let cut off our model after 4 epochs\n",
    "model = keras.Sequential([\n",
    "    layers.Dense(16, activation=\"relu\"),\n",
    "    layers.Dense(16, activation=\"relu\"),\n",
    "    layers.Dense(1, activation=\"sigmoid\")\n",
    "])\n",
    "model.compile(optimizer=\"rmsprop\",\n",
    "              loss=\"binary_crossentropy\",\n",
    "              metrics=[\"accuracy\"])\n",
    "model.fit(x_train, y_train, batch_size=512, epochs=4)\n",
    "results = model.evaluate(x_test, y_test)"
   ]
  },
  {
   "cell_type": "code",
   "execution_count": 47,
   "metadata": {},
   "outputs": [
    {
     "data": {
      "text/plain": [
       "[0.30581198212623595, 0.87812]"
      ]
     },
     "execution_count": 47,
     "metadata": {},
     "output_type": "execute_result"
    }
   ],
   "source": [
    "results"
   ]
  },
  {
   "cell_type": "code",
   "execution_count": 48,
   "metadata": {},
   "outputs": [
    {
     "data": {
      "text/plain": [
       "array([[0.1662441 ],\n",
       "       [0.99971086],\n",
       "       [0.700267  ],\n",
       "       ...,\n",
       "       [0.1284441 ],\n",
       "       [0.075778  ],\n",
       "       [0.45410475]], dtype=float32)"
      ]
     },
     "execution_count": 48,
     "metadata": {},
     "output_type": "execute_result"
    }
   ],
   "source": [
    "# using a trained model to generate predictions on new data\n",
    "model.predict(x_test)"
   ]
  },
  {
   "cell_type": "code",
   "execution_count": 49,
   "metadata": {},
   "outputs": [],
   "source": [
    "# wrapping up!!! [exercises]"
   ]
  },
  {
   "cell_type": "code",
   "execution_count": 51,
   "metadata": {},
   "outputs": [
    {
     "name": "stdout",
     "output_type": "stream",
     "text": [
      "Train on 25000 samples, validate on 10000 samples\n",
      "Epoch 1/4\n",
      "25000/25000 [==============================] - 1s 48us/sample - loss: 0.4506 - accuracy: 0.8232 - val_loss: 0.3017 - val_accuracy: 0.9114\n",
      "Epoch 2/4\n",
      "25000/25000 [==============================] - 1s 32us/sample - loss: 0.2764 - accuracy: 0.9072 - val_loss: 0.2271 - val_accuracy: 0.9250\n",
      "Epoch 3/4\n",
      "25000/25000 [==============================] - 1s 32us/sample - loss: 0.2186 - accuracy: 0.9255 - val_loss: 0.1840 - val_accuracy: 0.9425\n",
      "Epoch 4/4\n",
      "25000/25000 [==============================] - 1s 31us/sample - loss: 0.1857 - accuracy: 0.9354 - val_loss: 0.1565 - val_accuracy: 0.9538\n",
      "25000/25000 [==============================] - 1s 52us/sample - loss: 0.2811 - accuracy: 0.8880\n"
     ]
    }
   ],
   "source": [
    "model = keras.Sequential([\n",
    "    layers.Dense(16, activation=\"relu\"),\n",
    "    layers.Dense(1, activation=\"sigmoid\")\n",
    "])\n",
    "model.compile(optimizer=\"rmsprop\",\n",
    "              loss=\"binary_crossentropy\",\n",
    "              metrics=[\"accuracy\"])\n",
    "model.fit(x_train, y_train, batch_size=512, epochs=4, validation_data=(x_val, y_val))\n",
    "results = model.evaluate(x_test, y_test)"
   ]
  },
  {
   "cell_type": "code",
   "execution_count": 10,
   "metadata": {},
   "outputs": [
    {
     "name": "stdout",
     "output_type": "stream",
     "text": [
      "Train on 25000 samples, validate on 10000 samples\n",
      "Epoch 1/5\n",
      "25000/25000 [==============================] - 2s 65us/sample - loss: 0.3432 - accuracy: 0.8600 - val_loss: 0.2301 - val_accuracy: 0.9065\n",
      "Epoch 2/5\n",
      "25000/25000 [==============================] - 1s 44us/sample - loss: 0.2069 - accuracy: 0.9210 - val_loss: 0.1376 - val_accuracy: 0.9561\n",
      "Epoch 3/5\n",
      "25000/25000 [==============================] - 1s 44us/sample - loss: 0.1589 - accuracy: 0.9412 - val_loss: 0.1009 - val_accuracy: 0.9677\n",
      "Epoch 4/5\n",
      "25000/25000 [==============================] - 1s 44us/sample - loss: 0.1222 - accuracy: 0.9554 - val_loss: 0.0716 - val_accuracy: 0.9778\n",
      "Epoch 5/5\n",
      "25000/25000 [==============================] - 1s 44us/sample - loss: 0.0920 - accuracy: 0.9672 - val_loss: 0.0710 - val_accuracy: 0.9742\n"
     ]
    },
    {
     "data": {
      "text/plain": [
       "<tensorflow.python.keras.callbacks.History at 0x7f8ec5fb8358>"
      ]
     },
     "execution_count": 10,
     "metadata": {},
     "output_type": "execute_result"
    }
   ],
   "source": [
    "model = keras.Sequential([\n",
    "    layers.Dense(32, activation=\"relu\"),\n",
    "    layers.Dense(64, activation=\"relu\"),\n",
    "    layers.Dense(1, activation=\"sigmoid\")\n",
    "])\n",
    "model.compile(optimizer=\"rmsprop\",\n",
    "              loss=\"binary_crossentropy\",\n",
    "              metrics=[\"accuracy\"])\n",
    "model.fit(x_train, y_train, batch_size=128, epochs=5, validation_data=(x_val, y_val))"
   ]
  },
  {
   "cell_type": "code",
   "execution_count": 11,
   "metadata": {},
   "outputs": [
    {
     "name": "stdout",
     "output_type": "stream",
     "text": [
      "25000/25000 [==============================] - 1s 55us/sample - loss: 0.5012 - accuracy: 0.8594\n"
     ]
    }
   ],
   "source": [
    "results = model.evaluate(x_test, y_test)"
   ]
  },
  {
   "cell_type": "code",
   "execution_count": 12,
   "metadata": {},
   "outputs": [
    {
     "data": {
      "text/plain": [
       "[0.5012430922675133, 0.85936]"
      ]
     },
     "execution_count": 12,
     "metadata": {},
     "output_type": "execute_result"
    }
   ],
   "source": [
    "results"
   ]
  },
  {
   "cell_type": "markdown",
   "metadata": {},
   "source": [
    "### Others things to try:\n",
    "- mse loss function / binary_crossentropy\n",
    "- tanh for activation / relu"
   ]
  },
  {
   "cell_type": "code",
   "execution_count": null,
   "metadata": {},
   "outputs": [],
   "source": []
  },
  {
   "cell_type": "code",
   "execution_count": null,
   "metadata": {},
   "outputs": [],
   "source": []
  },
  {
   "cell_type": "code",
   "execution_count": null,
   "metadata": {},
   "outputs": [],
   "source": []
  },
  {
   "cell_type": "code",
   "execution_count": null,
   "metadata": {},
   "outputs": [],
   "source": []
  },
  {
   "cell_type": "code",
   "execution_count": null,
   "metadata": {},
   "outputs": [],
   "source": []
  },
  {
   "cell_type": "code",
   "execution_count": null,
   "metadata": {},
   "outputs": [],
   "source": []
  },
  {
   "cell_type": "code",
   "execution_count": null,
   "metadata": {},
   "outputs": [],
   "source": []
  },
  {
   "cell_type": "code",
   "execution_count": null,
   "metadata": {},
   "outputs": [],
   "source": []
  },
  {
   "cell_type": "code",
   "execution_count": null,
   "metadata": {},
   "outputs": [],
   "source": []
  },
  {
   "cell_type": "code",
   "execution_count": null,
   "metadata": {},
   "outputs": [],
   "source": []
  },
  {
   "cell_type": "code",
   "execution_count": null,
   "metadata": {},
   "outputs": [],
   "source": []
  },
  {
   "cell_type": "code",
   "execution_count": null,
   "metadata": {},
   "outputs": [],
   "source": []
  },
  {
   "cell_type": "code",
   "execution_count": null,
   "metadata": {},
   "outputs": [],
   "source": []
  }
 ],
 "metadata": {
  "kernelspec": {
   "display_name": "Python 3",
   "language": "python",
   "name": "python3"
  },
  "language_info": {
   "codemirror_mode": {
    "name": "ipython",
    "version": 3
   },
   "file_extension": ".py",
   "mimetype": "text/x-python",
   "name": "python",
   "nbconvert_exporter": "python",
   "pygments_lexer": "ipython3",
   "version": "3.6.9"
  }
 },
 "nbformat": 4,
 "nbformat_minor": 4
}
