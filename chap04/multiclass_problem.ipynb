{
 "cells": [
  {
   "cell_type": "code",
   "execution_count": 22,
   "metadata": {},
   "outputs": [],
   "source": [
    "import numpy as np"
   ]
  },
  {
   "cell_type": "code",
   "execution_count": 2,
   "metadata": {},
   "outputs": [],
   "source": [
    "from tensorflow.keras.datasets import reuters"
   ]
  },
  {
   "cell_type": "code",
   "execution_count": 48,
   "metadata": {},
   "outputs": [],
   "source": [
    "from tensorflow import keras\n",
    "from tensorflow.keras import layers"
   ]
  },
  {
   "cell_type": "code",
   "execution_count": 3,
   "metadata": {},
   "outputs": [
    {
     "name": "stdout",
     "output_type": "stream",
     "text": [
      "Downloading data from https://storage.googleapis.com/tensorflow/tf-keras-datasets/reuters.npz\n",
      "2113536/2110848 [==============================] - 0s 0us/step\n"
     ]
    }
   ],
   "source": [
    "# data\n",
    "(train_data, train_labels), (test_data, test_labels) = reuters.load_data(num_words=10000)"
   ]
  },
  {
   "cell_type": "code",
   "execution_count": 4,
   "metadata": {},
   "outputs": [
    {
     "data": {
      "text/plain": [
       "(8982, 2246)"
      ]
     },
     "execution_count": 4,
     "metadata": {},
     "output_type": "execute_result"
    }
   ],
   "source": [
    "(len(train_data), len(test_data))"
   ]
  },
  {
   "cell_type": "code",
   "execution_count": 7,
   "metadata": {},
   "outputs": [
    {
     "data": {
      "text/plain": [
       "(87, 56)"
      ]
     },
     "execution_count": 7,
     "metadata": {},
     "output_type": "execute_result"
    }
   ],
   "source": [
    "# again we have different lengths of words in each input\n",
    "len(train_data[0]), len(train_data[1])"
   ]
  },
  {
   "cell_type": "code",
   "execution_count": 8,
   "metadata": {},
   "outputs": [
    {
     "name": "stdout",
     "output_type": "stream",
     "text": [
      "Downloading data from https://storage.googleapis.com/tensorflow/tf-keras-datasets/reuters_word_index.json\n",
      "557056/550378 [==============================] - 0s 0us/step\n"
     ]
    }
   ],
   "source": [
    "# decoding\n",
    "word_index = reuters.get_word_index()\n",
    "reverse_word_index = dict([(value, key) for (key, value) in word_index.items()])\n",
    "decoded_newswire = \" \".join([reverse_word_index.get(i - 3, \"?\") for i in train_data[0]])"
   ]
  },
  {
   "cell_type": "code",
   "execution_count": 18,
   "metadata": {},
   "outputs": [
    {
     "data": {
      "text/plain": [
       "'? ? ? said as a result of its december acquisition of space co it expects earnings per share in 1987 of 1 15 to 1 30 dlrs per share up from 70 cts in 1986 the company said pretax net should rise to nine to 10 mln dlrs from six mln dlrs in 1986 and rental operation revenues to 19 to 22 mln dlrs from 12 5 mln dlrs it said cash flow per share this year should be 2 50 to three dlrs reuter 3'"
      ]
     },
     "execution_count": 18,
     "metadata": {},
     "output_type": "execute_result"
    }
   ],
   "source": [
    "decoded_newswire"
   ]
  },
  {
   "cell_type": "code",
   "execution_count": 39,
   "metadata": {
    "scrolled": true
   },
   "outputs": [],
   "source": [
    "# let's vectorize this\n",
    "def vectorize_sequences(sequences, words=10000):\n",
    "    \"\"\" \n",
    "    Receive a sequece of words with a specific length\n",
    "    and return a array of zeros with the same dimension (len_words, how_many_words).\n",
    "    For each index word we put a 1 for that word.\n",
    "    \"\"\"\n",
    "    results = np.zeros((len(sequences), words))\n",
    "    for i, sequence in enumerate(sequences):\n",
    "        for j in sequence:\n",
    "            results[i, j] = 1.\n",
    "    return results"
   ]
  },
  {
   "cell_type": "code",
   "execution_count": 40,
   "metadata": {},
   "outputs": [],
   "source": [
    "x_train = vectorize_sequences(train_data)\n",
    "x_test = vectorize_sequences(test_data)"
   ]
  },
  {
   "cell_type": "code",
   "execution_count": 41,
   "metadata": {},
   "outputs": [
    {
     "data": {
      "text/plain": [
       "(10000,)"
      ]
     },
     "execution_count": 41,
     "metadata": {},
     "output_type": "execute_result"
    }
   ],
   "source": [
    "# we all have the same length\n",
    "x_train[0].shape"
   ]
  },
  {
   "cell_type": "code",
   "execution_count": 42,
   "metadata": {},
   "outputs": [
    {
     "data": {
      "text/plain": [
       "(4, 10)"
      ]
     },
     "execution_count": 42,
     "metadata": {},
     "output_type": "execute_result"
    }
   ],
   "source": [
    "# we need to enconde the labels\n",
    "train_labels[1], test_labels[1]"
   ]
  },
  {
   "cell_type": "code",
   "execution_count": 43,
   "metadata": {},
   "outputs": [],
   "source": [
    "def to_one_hot(labels, dimension=46):\n",
    "    results = np.zeros((len(labels), dimension))\n",
    "    for i, label in enumerate(labels):\n",
    "        results[i, label] = 1.\n",
    "    return results"
   ]
  },
  {
   "cell_type": "code",
   "execution_count": 44,
   "metadata": {},
   "outputs": [],
   "source": [
    "y_train = to_one_hot(train_labels)\n",
    "y_test = to_one_hot(test_labels)"
   ]
  },
  {
   "cell_type": "code",
   "execution_count": 46,
   "metadata": {},
   "outputs": [
    {
     "data": {
      "text/plain": [
       "(8982, 46)"
      ]
     },
     "execution_count": 46,
     "metadata": {},
     "output_type": "execute_result"
    }
   ],
   "source": [
    "y_train.shape"
   ]
  },
  {
   "cell_type": "markdown",
   "metadata": {},
   "source": [
    "# Building your model"
   ]
  },
  {
   "cell_type": "markdown",
   "metadata": {},
   "source": [
    "In a stack of Dense layers like that you've been using, **each layer can only access information present in the output of the previous layer.** If one layer drops some information relevant to the classification problem, this information can never be recovered by later layers: information bottlenecks. "
   ]
  },
  {
   "cell_type": "code",
   "execution_count": 50,
   "metadata": {},
   "outputs": [],
   "source": [
    "# we gona use larger layers\n",
    "model = keras.Sequential([\n",
    "    layers.Dense(64, activation=\"relu\"),\n",
    "    layers.Dense(64, activation=\"relu\"),\n",
    "    layers.Dense(46, activation=\"softmax\")\n",
    "])"
   ]
  },
  {
   "cell_type": "markdown",
   "metadata": {},
   "source": [
    "- **softmax**: probability distribution over a lot of classes. In this example we have 46 categories, so the sum of the probabilities on the vector will sum up to 1.\n",
    "- **categorical_crossentropy**: measure of a distance of between two probabilities distributions: the output by the model and the true distribution of the labels."
   ]
  },
  {
   "cell_type": "code",
   "execution_count": 51,
   "metadata": {},
   "outputs": [],
   "source": [
    "model.compile(\n",
    "    optimizer=\"rmsprop\",\n",
    "    loss=\"categorical_crossentropy\",\n",
    "    metrics=[\"accuracy\"]\n",
    ")"
   ]
  },
  {
   "cell_type": "markdown",
   "metadata": {},
   "source": [
    "# Validating"
   ]
  },
  {
   "cell_type": "code",
   "execution_count": 52,
   "metadata": {},
   "outputs": [],
   "source": [
    "x_val = x_train[:1000]\n",
    "partial_x_train = x_train[1000:]\n",
    "y_val = y_train[:1000]\n",
    "partial_y_train = y_train[1000:]"
   ]
  },
  {
   "cell_type": "code",
   "execution_count": 53,
   "metadata": {
    "scrolled": true
   },
   "outputs": [
    {
     "name": "stdout",
     "output_type": "stream",
     "text": [
      "Train on 7982 samples, validate on 1000 samples\n",
      "Epoch 1/20\n",
      "7982/7982 [==============================] - 1s 95us/sample - loss: 2.7755 - accuracy: 0.5253 - val_loss: 1.8159 - val_accuracy: 0.6500\n",
      "Epoch 2/20\n",
      "7982/7982 [==============================] - 0s 27us/sample - loss: 1.4622 - accuracy: 0.7002 - val_loss: 1.3122 - val_accuracy: 0.7040\n",
      "Epoch 3/20\n",
      "7982/7982 [==============================] - 0s 27us/sample - loss: 1.0607 - accuracy: 0.7681 - val_loss: 1.1366 - val_accuracy: 0.7460\n",
      "Epoch 4/20\n",
      "7982/7982 [==============================] - 0s 27us/sample - loss: 0.8298 - accuracy: 0.8240 - val_loss: 1.0391 - val_accuracy: 0.7780\n",
      "Epoch 5/20\n",
      "7982/7982 [==============================] - 0s 26us/sample - loss: 0.6641 - accuracy: 0.8633 - val_loss: 0.9723 - val_accuracy: 0.7960\n",
      "Epoch 6/20\n",
      "7982/7982 [==============================] - 0s 27us/sample - loss: 0.5291 - accuracy: 0.8939 - val_loss: 0.9197 - val_accuracy: 0.8190\n",
      "Epoch 7/20\n",
      "7982/7982 [==============================] - 0s 29us/sample - loss: 0.4241 - accuracy: 0.9152 - val_loss: 0.9253 - val_accuracy: 0.8100\n",
      "Epoch 8/20\n",
      "7982/7982 [==============================] - 0s 29us/sample - loss: 0.3469 - accuracy: 0.9266 - val_loss: 0.9053 - val_accuracy: 0.8090\n",
      "Epoch 9/20\n",
      "7982/7982 [==============================] - 0s 32us/sample - loss: 0.2857 - accuracy: 0.9381 - val_loss: 0.9256 - val_accuracy: 0.8000\n",
      "Epoch 10/20\n",
      "7982/7982 [==============================] - 0s 30us/sample - loss: 0.2424 - accuracy: 0.9463 - val_loss: 0.9148 - val_accuracy: 0.8090\n",
      "Epoch 11/20\n",
      "7982/7982 [==============================] - 0s 33us/sample - loss: 0.2104 - accuracy: 0.9483 - val_loss: 0.9264 - val_accuracy: 0.8140\n",
      "Epoch 12/20\n",
      "7982/7982 [==============================] - 0s 30us/sample - loss: 0.1841 - accuracy: 0.9529 - val_loss: 0.9644 - val_accuracy: 0.8070\n",
      "Epoch 13/20\n",
      "7982/7982 [==============================] - 0s 33us/sample - loss: 0.1670 - accuracy: 0.9536 - val_loss: 1.0169 - val_accuracy: 0.8050\n",
      "Epoch 14/20\n",
      "7982/7982 [==============================] - 0s 27us/sample - loss: 0.1548 - accuracy: 0.9546 - val_loss: 0.9777 - val_accuracy: 0.8110\n",
      "Epoch 15/20\n",
      "7982/7982 [==============================] - 0s 27us/sample - loss: 0.1419 - accuracy: 0.9544 - val_loss: 1.0161 - val_accuracy: 0.8110\n",
      "Epoch 16/20\n",
      "7982/7982 [==============================] - 0s 33us/sample - loss: 0.1365 - accuracy: 0.9555 - val_loss: 0.9975 - val_accuracy: 0.8150\n",
      "Epoch 17/20\n",
      "7982/7982 [==============================] - 0s 31us/sample - loss: 0.1284 - accuracy: 0.9573 - val_loss: 1.0290 - val_accuracy: 0.8120\n",
      "Epoch 18/20\n",
      "7982/7982 [==============================] - 0s 31us/sample - loss: 0.1203 - accuracy: 0.9577 - val_loss: 1.0692 - val_accuracy: 0.8020\n",
      "Epoch 19/20\n",
      "7982/7982 [==============================] - 0s 33us/sample - loss: 0.1163 - accuracy: 0.9575 - val_loss: 1.1101 - val_accuracy: 0.8040\n",
      "Epoch 20/20\n",
      "7982/7982 [==============================] - 0s 23us/sample - loss: 0.1126 - accuracy: 0.9563 - val_loss: 1.0969 - val_accuracy: 0.8040\n"
     ]
    }
   ],
   "source": [
    "# lets train on 20 epochs of 512 batchs\n",
    "history = model.fit(x=partial_x_train, y=partial_y_train, batch_size=512, epochs=20, validation_data=(x_val, y_val))"
   ]
  },
  {
   "cell_type": "code",
   "execution_count": 62,
   "metadata": {},
   "outputs": [],
   "source": [
    "loss = history.history[\"loss\"]\n",
    "val_loss = history.history[\"val_loss\"]"
   ]
  },
  {
   "cell_type": "code",
   "execution_count": 57,
   "metadata": {},
   "outputs": [],
   "source": [
    "import matplotlib.pyplot as plt"
   ]
  },
  {
   "cell_type": "code",
   "execution_count": 63,
   "metadata": {},
   "outputs": [
    {
     "data": {
      "image/png": "[encoded data removed]",
      "text/plain": [
       "<Figure size 432x288 with 1 Axes>"
      ]
     },
     "metadata": {
      "needs_background": "light"
     },
     "output_type": "display_data"
    }
   ],
   "source": [
    "epochs = range(1, len(loss) + 1)\n",
    "plt.plot(epochs, loss, \"bo\", label=\"Loss\")\n",
    "plt.plot(epochs, val_loss, \"b-\", label=\"Val. Loss\")\n",
    "plt.title(\"Loss on training and validation data\")\n",
    "plt.xlabel(\"Epochs\")\n",
    "plt.ylabel(\"Loss\")\n",
    "plt.legend()\n",
    "plt.show()"
   ]
  },
  {
   "cell_type": "code",
   "execution_count": 61,
   "metadata": {},
   "outputs": [],
   "source": [
    "accuracy = history.history[\"accuracy\"]\n",
    "val_accuracy = history.history[\"val_accuracy\"]"
   ]
  },
  {
   "cell_type": "code",
   "execution_count": 65,
   "metadata": {},
   "outputs": [
    {
     "data": {
      "image/png": "[encoded data removed]",
      "text/plain": [
       "<Figure size 432x288 with 1 Axes>"
      ]
     },
     "metadata": {
      "needs_background": "light"
     },
     "output_type": "display_data"
    }
   ],
   "source": [
    "epochs = range(1, len(loss) + 1)\n",
    "plt.plot(epochs, accuracy, \"bo\", label=\"Acc\")\n",
    "plt.plot(epochs, val_accuracy, \"b-\", label=\"Val. Acc\")\n",
    "plt.title(\"Accuracy on training and validation data\")\n",
    "plt.xlabel(\"Epochs\")\n",
    "plt.ylabel(\"Loss\")\n",
    "plt.legend()\n",
    "plt.show()"
   ]
  },
  {
   "cell_type": "code",
   "execution_count": 66,
   "metadata": {},
   "outputs": [
    {
     "name": "stdout",
     "output_type": "stream",
     "text": [
      "Train on 8982 samples\n",
      "Epoch 1/9\n",
      "8982/8982 [==============================] - 0s 55us/sample - loss: 2.5162 - accuracy: 0.5115\n",
      "Epoch 2/9\n",
      "8982/8982 [==============================] - 0s 24us/sample - loss: 1.3380 - accuracy: 0.7181\n",
      "Epoch 3/9\n",
      "8982/8982 [==============================] - 0s 23us/sample - loss: 1.0071 - accuracy: 0.7867\n",
      "Epoch 4/9\n",
      "8982/8982 [==============================] - 0s 25us/sample - loss: 0.7896 - accuracy: 0.8352\n",
      "Epoch 5/9\n",
      "8982/8982 [==============================] - 0s 24us/sample - loss: 0.6275 - accuracy: 0.8684\n",
      "Epoch 6/9\n",
      "8982/8982 [==============================] - 0s 23us/sample - loss: 0.5036 - accuracy: 0.8926\n",
      "Epoch 7/9\n",
      "8982/8982 [==============================] - 0s 23us/sample - loss: 0.4060 - accuracy: 0.9136\n",
      "Epoch 8/9\n",
      "8982/8982 [==============================] - 0s 25us/sample - loss: 0.3315 - accuracy: 0.9289\n",
      "Epoch 9/9\n",
      "8982/8982 [==============================] - 0s 24us/sample - loss: 0.2765 - accuracy: 0.9388\n",
      "2246/2246 [==============================] - 0s 76us/sample - loss: 0.9774 - accuracy: 0.7939\n"
     ]
    }
   ],
   "source": [
    "# we gona use larger layers\n",
    "model = keras.Sequential([\n",
    "    layers.Dense(64, activation=\"relu\"),\n",
    "    layers.Dense(64, activation=\"relu\"),\n",
    "    layers.Dense(46, activation=\"softmax\")\n",
    "])\n",
    "model.compile(\n",
    "    optimizer=\"rmsprop\",\n",
    "    loss=\"categorical_crossentropy\",\n",
    "    metrics=[\"accuracy\"]\n",
    ")\n",
    "# lets train on 9 epochs of 512 batchs\n",
    "# 9 epochs have the best score\n",
    "model.fit(x=x_train, y=y_train, batch_size=512, epochs=9)\n",
    "results = model.evaluate(x_test, y_test)"
   ]
  },
  {
   "cell_type": "code",
   "execution_count": 67,
   "metadata": {},
   "outputs": [
    {
     "data": {
      "text/plain": [
       "[0.9773555954757378, 0.7938557]"
      ]
     },
     "execution_count": 67,
     "metadata": {},
     "output_type": "execute_result"
    }
   ],
   "source": [
    "results"
   ]
  },
  {
   "cell_type": "markdown",
   "metadata": {},
   "source": [
    "We have approximtly 80% of accuracy, pretty good result! Lets compare how is the chance of a random choice to get the answers."
   ]
  },
  {
   "cell_type": "code",
   "execution_count": 68,
   "metadata": {},
   "outputs": [
    {
     "data": {
      "text/plain": [
       "0.18432769367764915"
      ]
     },
     "execution_count": 68,
     "metadata": {},
     "output_type": "execute_result"
    }
   ],
   "source": [
    "import copy\n",
    "test_labels_copy = copy.copy(test_labels)\n",
    "np.random.shuffle(test_labels_copy)\n",
    "hists_array = np.array(test_labels) == np.array(test_labels_copy)\n",
    "hists_array.mean()"
   ]
  },
  {
   "cell_type": "markdown",
   "metadata": {},
   "source": [
    "At random, we got 18%. So, 80% is a pretty good value."
   ]
  },
  {
   "cell_type": "markdown",
   "metadata": {},
   "source": [
    "# Predictions"
   ]
  },
  {
   "cell_type": "code",
   "execution_count": 70,
   "metadata": {},
   "outputs": [
    {
     "data": {
      "text/plain": [
       "array([4.47434431e-05, 3.62370571e-04, 3.92814036e-05, 6.22517884e-01,\n",
       "       3.46642762e-01, 1.84067962e-04, 4.87751022e-05, 6.33480493e-04,\n",
       "       4.35991818e-03, 1.36307950e-04, 7.11323519e-05, 2.34752684e-03,\n",
       "       1.87199982e-03, 4.93417203e-04, 1.04418476e-04, 7.42124277e-04,\n",
       "       1.87628297e-03, 1.39605487e-04, 4.48437895e-05, 4.35405324e-04,\n",
       "       8.45644157e-03, 8.77743820e-04, 1.27559251e-04, 3.63286876e-04,\n",
       "       2.09040973e-05, 2.64108694e-05, 3.02528206e-05, 2.73474689e-05,\n",
       "       3.21618660e-04, 5.36543550e-04, 3.05259135e-04, 3.36872239e-04,\n",
       "       3.08869319e-04, 1.23486825e-05, 2.52830854e-04, 2.11493083e-04,\n",
       "       3.66581604e-03, 3.78028308e-05, 1.16920841e-04, 2.90773925e-04,\n",
       "       4.52512686e-05, 2.71262659e-04, 2.20101618e-04, 2.62204139e-05,\n",
       "       2.58359069e-06, 1.11687414e-05], dtype=float32)"
      ]
     },
     "execution_count": 70,
     "metadata": {},
     "output_type": "execute_result"
    }
   ],
   "source": [
    "predictions = model.predict(x_test)\n",
    "predictions[0]"
   ]
  },
  {
   "cell_type": "code",
   "execution_count": 71,
   "metadata": {},
   "outputs": [
    {
     "data": {
      "text/plain": [
       "0.99999994"
      ]
     },
     "execution_count": 71,
     "metadata": {},
     "output_type": "execute_result"
    }
   ],
   "source": [
    "np.sum(predictions[0])"
   ]
  },
  {
   "cell_type": "code",
   "execution_count": 72,
   "metadata": {},
   "outputs": [
    {
     "data": {
      "text/plain": [
       "3"
      ]
     },
     "execution_count": 72,
     "metadata": {},
     "output_type": "execute_result"
    }
   ],
   "source": [
    "np.argmax(predictions[0])"
   ]
  },
  {
   "cell_type": "code",
   "execution_count": null,
   "metadata": {},
   "outputs": [],
   "source": []
  },
  {
   "cell_type": "code",
   "execution_count": null,
   "metadata": {},
   "outputs": [],
   "source": []
  },
  {
   "cell_type": "code",
   "execution_count": null,
   "metadata": {},
   "outputs": [],
   "source": []
  },
  {
   "cell_type": "code",
   "execution_count": null,
   "metadata": {},
   "outputs": [],
   "source": []
  }
 ],
 "metadata": {
  "kernelspec": {
   "display_name": "Python 3",
   "language": "python",
   "name": "python3"
  },
  "language_info": {
   "codemirror_mode": {
    "name": "ipython",
    "version": 3
   },
   "file_extension": ".py",
   "mimetype": "text/x-python",
   "name": "python",
   "nbconvert_exporter": "python",
   "pygments_lexer": "ipython3",
   "version": "3.6.9"
  }
 },
 "nbformat": 4,
 "nbformat_minor": 4
}
