{
 "cells": [
  {
   "cell_type": "code",
   "execution_count": 2,
   "metadata": {},
   "outputs": [],
   "source": [
    "import torch"
   ]
  },
  {
   "cell_type": "markdown",
   "metadata": {},
   "source": [
    "## Exercises"
   ]
  },
  {
   "cell_type": "code",
   "execution_count": 34,
   "metadata": {},
   "outputs": [],
   "source": [
    "# exercise 1\n",
    "torch_tensor_3d = torch.tensor([[[1, 2, 3], [2, 3, 4]],[[4, 5, 6], [3, 3, 3]], [[1, 2, 1], [1, 2, 2]]], dtype=torch.float32)\n",
    "total_avg = torch_tensor_3d.mean()\n",
    "avg_by_dim_row_wise = torch_tensor_3d.reshape((3, 6)).mean(dim=0)\n",
    "avg_by_dim_column_wise = torch_tensor_3d.reshape((3, 6)).mean(dim=1)  "
   ]
  },
  {
   "cell_type": "code",
   "execution_count": 35,
   "metadata": {},
   "outputs": [
    {
     "data": {
      "text/plain": [
       "(tensor(2.6667),\n",
       " tensor([2.0000, 3.0000, 3.3333, 2.0000, 2.6667, 3.0000]),\n",
       " tensor([2.5000, 4.0000, 1.5000]))"
      ]
     },
     "execution_count": 35,
     "metadata": {},
     "output_type": "execute_result"
    }
   ],
   "source": [
    "total_avg, avg_by_dim_row_wise, avg_by_dim_column_wise"
   ]
  },
  {
   "cell_type": "code",
   "execution_count": null,
   "metadata": {},
   "outputs": [],
   "source": [
    "# exercise 2\n"
   ]
  }
 ],
 "metadata": {
  "interpreter": {
   "hash": "85d6bce1e3f64b91ea480d740610eb6cc52afab618dd0b1861a2d8a5bfafc79b"
  },
  "kernelspec": {
   "display_name": "Python 3.9.0 ('dl-deep-dive-_doing_-JjS9YL3a')",
   "language": "python",
   "name": "python3"
  },
  "language_info": {
   "codemirror_mode": {
    "name": "ipython",
    "version": 3
   },
   "file_extension": ".py",
   "mimetype": "text/x-python",
   "name": "python",
   "nbconvert_exporter": "python",
   "pygments_lexer": "ipython3",
   "version": "3.9.0"
  },
  "orig_nbformat": 4
 },
 "nbformat": 4,
 "nbformat_minor": 2
}
